{
 "cells": [
  {
   "cell_type": "code",
   "execution_count": null,
   "metadata": {
    "id": "8kdsGkYJXXKc"
   },
   "outputs": [],
   "source": [
    "#@title Copyright 2020 The Earth Engine Community Authors { display-mode: \"form\" }\n",
    "#\n",
    "# Licensed under the Apache License, Version 2.0 (the \"License\");\n",
    "# you may not use this file except in compliance with the License.\n",
    "# You may obtain a copy of the License at\n",
    "#\n",
    "# https://www.apache.org/licenses/LICENSE-2.0\n",
    "#\n",
    "# Unless required by applicable law or agreed to in writing, software\n",
    "# distributed under the License is distributed on an \"AS IS\" BASIS,\n",
    "# WITHOUT WARRANTIES OR CONDITIONS OF ANY KIND, either express or implied.\n",
    "# See the License for the specific language governing permissions and\n",
    "# limitations under the License."
   ]
  },
  {
   "cell_type": "markdown",
   "metadata": {
    "id": "LNiZKg4sl78g"
   },
   "source": [
    "# Detecting Changes in Sentinel-1 Imagery (Part 1)\n",
    "Author: mortcanty\n",
    "\n",
    "In this tutorial we will analyze synthetic aperture radar (SAR) imagery  in order to detect statistically significant changes on the Earth surface. As the adverb \"statistically\" hints, we will need a basic understanding of the statistical properties of SAR imagery in order to proceed, and the adjective \"significant\" implies that we  learn the fundamentals of hypothesis testing. In particular we will be concerned with time series of the dual polarimetric intensity Sentinel-1 SAR images in the GEE archive. The tutorial is in four parts:\n",
    "\n",
    "- 1. Single and multi-look image statistics\n",
    "- 2. Hypothesis testing \n",
    "- 3. Multitemporal change detection\n",
    "- 4. Applications\n",
    "\n",
    "Much of the material is based on Chapters 5 and 9 of my text [Image Analysis, Classification and Change Detection in Remote Sensing](https://www.taylorfrancis.com/books/9780429464348), and the most relevant original publications are [Conradsen et al. (2003)](https://ieeexplore.ieee.org/document/1183688),  [Conradsen et al. (2016)](https://ieeexplore.ieee.org/document/7398022) and  [Canty et al. (2020)](https://www.mdpi.com/2072-4292/12/1/46).\n"
   ]
  },
  {
   "cell_type": "markdown",
   "metadata": {
    "id": "0YbuSTjRav14"
   },
   "source": [
    "## Context"
   ]
  },
  {
   "cell_type": "markdown",
   "metadata": {
    "id": "xJiEvqGsalrI"
   },
   "source": [
    "The [Sentinel-1 missions of the ESA]( https://sentinel.esa.int/web/sentinel/missions/sentinel-1) provide a fantastic source of weather-independent, day-or-night Earth observation data with repeat times of the order of 6 days. The Google Earth Engine team monitor and ingest the imagery data almost as fast as they are produced, thus removing the burden from the user of searching, downloading, pre-processing and georeferencing. The JavaScript and Python API's to GEE can then be easily programmed to analyze time series of Sentinel-1 acquisitions virtually anywhere on the globe. Detected changes, both short- and long-term, can be related to landscape dynamics and human activity.\n",
    "\n"
   ]
  },
  {
   "cell_type": "markdown",
   "metadata": {
    "id": "zbzxAsmgbPgT"
   },
   "source": [
    "## Prerequisites"
   ]
  },
  {
   "cell_type": "markdown",
   "metadata": {
    "id": "90jejz89a7yR"
   },
   "source": [
    "A basic knowledge of the Sentinel-1 SAR platform is assumed on the part of the reader,  at the level of the [ESA User Guides](https://sentinel.esa.int/web/sentinel/user-guides/sentinel-1-sar). The reader should also be familiar with ordinary Python syntax and also with the GEE API (Python or JavaScript, it doesn't matter as they are almost identical).\n",
    "We will take a relaxed view of statistical formalism, without clearly distinguishing random variables from their realizations (measurements). We assume that the reader has, at least, an intuitive understanding of the mean and variance of independent measurements $x_i$ of a quantity $x$,\n",
    "\n",
    "$$\n",
    "{\\rm mean}(x) = {1\\over n}\\sum_{i=1}^n x_i\n",
    "$$\n",
    "$$\n",
    "{\\rm var}(x) = {1\\over n}\\sum_{i=1}^n(x_i-{\\rm mean}(x))^2\n",
    "$$\n",
    "\n",
    "and that the measurements can be described by a probability density function\n",
    "$p(x)$ with\n",
    "\n",
    "$$\n",
    "\\quad {\\rm mean}(x) = \\int_{-\\infty}^\\infty x p(x)dx,\\quad {\\rm var}(x) = \\int_{-\\infty}^\\infty (x-{\\rm mean}(x))^2 p(x)dx\n",
    "$$\n",
    "and\n",
    "$$\n",
    "\\quad \\int_{-\\infty}^\\infty p(x)dx = 1.\n",
    "$$\n",
    "\n",
    "More statistics will be introduced as needed.\n",
    "A highly recommended reference is [Freund's Mathematical Statistics](https://www.amazon.de/John-Freunds-Mathematical-Statistics/dp/013123613X/ref=sr_1_8?__mk_de_DE=%C3%85M%C3%85%C5%BD%C3%95%C3%91&dchild=1&keywords=freund+mathematical+statistics&qid=1597837319&sr=8-8)."
   ]
  },
  {
   "cell_type": "markdown",
   "metadata": {
    "id": "l18M9_r5XmAQ"
   },
   "source": [
    "\n",
    "## Part 1. Single and multi-look image statistics\n",
    "\n"
   ]
  },
  {
   "cell_type": "markdown",
   "metadata": {
    "id": "U7i55vr_aKCB"
   },
   "source": [
    "### Run me first\n",
    "\n",
    "Run the following cell to initialize the API. The output will contain instructions on how to grant this notebook access to Earth Engine using your account."
   ]
  },
  {
   "cell_type": "code",
   "execution_count": 1,
   "metadata": {
    "id": "XeFsiSp2aDL6"
   },
   "outputs": [],
   "source": [
    "import ee\n",
    " \n",
    "# Trigger the authentication flow.\n",
    "#ee.Authenticate()\n",
    " \n",
    "# Initialize the library.\n",
    "ee.Initialize()"
   ]
  },
  {
   "cell_type": "markdown",
   "metadata": {
    "id": "VOf_UnIcZKBJ"
   },
   "source": [
    "### Datasets and Python modules\n",
    "Two [datasets](https://developers.google.com/earth-engine/datasets/catalog/COPERNICUS_S1_GRD) will be used in the tutorial:\n",
    "\n",
    "- COPERNICUS/S1_GRD_FLOAT\n",
    "    - Sentinel-1 ground range detected images\n",
    "- COPERNICUS/S1_GRD  \n",
    "    - Sentinel-1 ground range detected images converted to decibels\n",
    "\n",
    "The following cell imports some python modules which we will be using as we go along,  and also enables inline graphics."
   ]
  },
  {
   "cell_type": "code",
   "execution_count": 2,
   "metadata": {
    "id": "JR0cxCpeIxoY"
   },
   "outputs": [],
   "source": [
    "import matplotlib.pyplot as plt\n",
    "import numpy as np\n",
    "from scipy.stats import norm, gamma, f, chi2\n",
    "import IPython.display as disp\n",
    "%matplotlib inline"
   ]
  },
  {
   "cell_type": "markdown",
   "metadata": {
    "id": "eelxHh2qc6xg"
   },
   "source": [
    "And in order to make use of interactive maps, we import the _folium_ package:"
   ]
  },
  {
   "cell_type": "code",
   "execution_count": 3,
   "metadata": {
    "id": "VIiyf6azf4mU"
   },
   "outputs": [],
   "source": [
    "# Import the Folium library.\n",
    "import folium\n",
    "\n",
    "# Define a method for displaying Earth Engine image tiles to folium map.\n",
    "def add_ee_layer(self, ee_image_object, vis_params, name):\n",
    "  map_id_dict = ee.Image(ee_image_object).getMapId(vis_params)\n",
    "  folium.raster_layers.TileLayer(\n",
    "    tiles = map_id_dict['tile_fetcher'].url_format,\n",
    "    attr = 'Map Data &copy; <a href=\"https://earthengine.google.com/\">Google Earth Engine</a>',\n",
    "    name = name,\n",
    "    overlay = True,\n",
    "    control = True\n",
    "  ).add_to(self)\n",
    "\n",
    "# Add EE drawing method to folium.\n",
    "folium.Map.add_ee_layer = add_ee_layer"
   ]
  },
  {
   "cell_type": "markdown",
   "metadata": {
    "id": "r-GuxE6lJHHx"
   },
   "source": [
    "### A Sentinel-1 image\n",
    "\n",
    "Let's start work by grabbing a spatial subset of a Sentinel-1 image from the archive. We'll define an region of interest (AOI) as a random polygon over Paramaribo city in Suriname. A convenient way to do this is with the [geojson.io](http://geojson.io/#map=2/20.0/0.0) website, from which we can cut and paste the corresponding GeoJSON object description."
   ]
  },
  {
   "cell_type": "code",
   "execution_count": 5,
   "metadata": {
    "id": "Hww9JAK0JgFm"
   },
   "outputs": [],
   "source": [
    "geoJSON = {\n",
    "  \"type\": \"FeatureCollection\",\n",
    "  \"features\": [\n",
    "    {\n",
    "      \"type\": \"Feature\",\n",
    "      \"properties\": {},\n",
    "      \"geometry\": {\n",
    "        \"type\": \"Polygon\",\n",
    "        \"coordinates\": [\n",
    "          [\n",
    "            [\n",
    "              -55.21848678588867,\n",
    "              5.872867803938939\n",
    "            ],\n",
    "            [\n",
    "              -55.256595611572266,\n",
    "              5.836153112227562\n",
    "            ],\n",
    "            [\n",
    "              -55.243377685546875,\n",
    "              5.7832114200335125\n",
    "            ],\n",
    "            [\n",
    "              -55.18226623535156,\n",
    "              5.760837793657766\n",
    "            ],\n",
    "            [\n",
    "              -55.10570526123047,\n",
    "              5.794312509472417\n",
    "            ],\n",
    "            [\n",
    "              -55.11669158935547,\n",
    "              5.873892365348979\n",
    "            ],\n",
    "            [\n",
    "              -55.174198150634766,\n",
    "              5.882771818579644\n",
    "            ],\n",
    "            [\n",
    "              -55.21848678588867,\n",
    "              5.872867803938939\n",
    "            ]\n",
    "          ]\n",
    "        ]\n",
    "      }\n",
    "    }\n",
    "  ]\n",
    "}"
   ]
  },
  {
   "cell_type": "markdown",
   "metadata": {
    "id": "VySnRWy3K0Jk"
   },
   "source": [
    "Note that the last and first corners are identical, indicating closure of the polygon. We have to bore down into the GeoJSON structure to get the geometry coordinates, then create an _ee.Geometry()_ object:"
   ]
  },
  {
   "cell_type": "code",
   "execution_count": 6,
   "metadata": {
    "id": "PRWSgszXTjFw"
   },
   "outputs": [],
   "source": [
    "coords = geoJSON['features'][0]['geometry']['coordinates']\n",
    "aoi = ee.Geometry.Polygon(coords)"
   ]
  },
  {
   "cell_type": "markdown",
   "metadata": {
    "id": "C6rM63_lTqJ9"
   },
   "source": [
    "Next, we filter the S1 archive to get an image over the _aoi_ acquired sometime in August, 2020. Any old image will do fine, so we won't bother to specify the orbit number or whether we want the ASCENDING or DESCENDING node. If we don't specify the instrument mode or resolution, we get _IW_ (interferometric wide swath) mode and $10\\times 10\\ m^2$ pixels by default. For convenience we grab both decibel and float versions:"
   ]
  },
  {
   "cell_type": "code",
   "execution_count": 7,
   "metadata": {
    "id": "ALF5YkahTvRl"
   },
   "outputs": [],
   "source": [
    "ffa_db = ee.Image(ee.ImageCollection('COPERNICUS/S1_GRD') \n",
    "                       .filterBounds(aoi) \n",
    "                       .filterDate(ee.Date('2021-03-01'), ee.Date('2021-03-10')) \n",
    "                       .first() \n",
    "                       .clip(aoi))\n",
    "ffa_fl = ee.Image(ee.ImageCollection('COPERNICUS/S1_GRD_FLOAT') \n",
    "                       .filterBounds(aoi) \n",
    "                       .filterDate(ee.Date('2021-04-25'), ee.Date('2021-05-01')) \n",
    "                       .first() \n",
    "                       .clip(aoi))"
   ]
  },
  {
   "cell_type": "markdown",
   "metadata": {
    "id": "Tcj_XBgDT032"
   },
   "source": [
    "Notice that we have clipped the images to our _aoi_ so as not to work with the entire swath. To confirm that we have an image, we list its band names, fetching the result from the GEE servers with the _getInfo()_ class method:"
   ]
  },
  {
   "cell_type": "code",
   "execution_count": 8,
   "metadata": {
    "id": "-h-0Jz68T5Tn"
   },
   "outputs": [
    {
     "data": {
      "text/plain": [
       "['VV', 'VH', 'angle']"
      ]
     },
     "execution_count": 8,
     "metadata": {},
     "output_type": "execute_result"
    }
   ],
   "source": [
    "ffa_db.bandNames().getInfo()"
   ]
  },
  {
   "cell_type": "markdown",
   "metadata": {
    "id": "e6HujXvIT-EC"
   },
   "source": [
    "and display the VV band of the decibel version using the _getThumbURL()_ method and IPython's _display_ module. The float intensities $I$ are generally between 0 and 1, so we stretch the decibel image $10\\log_{10}(I)$ from $-20$ to $0$:"
   ]
  },
  {
   "cell_type": "code",
   "execution_count": 9,
   "metadata": {
    "id": "gLICx5Y0UCvD"
   },
   "outputs": [
    {
     "data": {
      "text/html": [
       "<img src=\"https://earthengine.googleapis.com/v1alpha/projects/earthengine-legacy/thumbnails/a350cff8d8878bb47e7d09d2da510e75-bf1190812d2b84b63c738b6e48ac2ad5:getPixels\" width=\"800\"/>"
      ],
      "text/plain": [
       "<IPython.core.display.Image object>"
      ]
     },
     "execution_count": 9,
     "metadata": {},
     "output_type": "execute_result"
    }
   ],
   "source": [
    "url = ffa_db.select('VV').getThumbURL({'min': -20, 'max': 0})\n",
    "disp.Image(url=url, width=800)"
   ]
  },
  {
   "cell_type": "markdown",
   "metadata": {
    "id": "yAO0MhD5YuZC"
   },
   "source": [
    "This is fine, but a little boring. We can use _folium_ to project onto a map for geographical context. The _folium_ _Map()_ constructor wants its _location_ keyword in long-lat rather than lat-long, so we do a list reverse in the first line:"
   ]
  },
  {
   "cell_type": "code",
   "execution_count": 10,
   "metadata": {
    "id": "Z8iPEdmkZPk0"
   },
   "outputs": [
    {
     "data": {
      "text/html": [
       "<div style=\"width:100%;\"><div style=\"position:relative;width:100%;height:0;padding-bottom:60%;\"><span style=\"color:#565656\">Make this Notebook Trusted to load map: File -> Trust Notebook</span><iframe src=\"about:blank\" style=\"position:absolute;width:100%;height:100%;left:0;top:0;border:none !important;\" data-html=%3C%21DOCTYPE%20html%3E%0A%3Chead%3E%20%20%20%20%0A%20%20%20%20%3Cmeta%20http-equiv%3D%22content-type%22%20content%3D%22text/html%3B%20charset%3DUTF-8%22%20/%3E%0A%20%20%20%20%0A%20%20%20%20%20%20%20%20%3Cscript%3E%0A%20%20%20%20%20%20%20%20%20%20%20%20L_NO_TOUCH%20%3D%20false%3B%0A%20%20%20%20%20%20%20%20%20%20%20%20L_DISABLE_3D%20%3D%20false%3B%0A%20%20%20%20%20%20%20%20%3C/script%3E%0A%20%20%20%20%0A%20%20%20%20%3Cstyle%3Ehtml%2C%20body%20%7Bwidth%3A%20100%25%3Bheight%3A%20100%25%3Bmargin%3A%200%3Bpadding%3A%200%3B%7D%3C/style%3E%0A%20%20%20%20%3Cstyle%3E%23map%20%7Bposition%3Aabsolute%3Btop%3A0%3Bbottom%3A0%3Bright%3A0%3Bleft%3A0%3B%7D%3C/style%3E%0A%20%20%20%20%3Cscript%20src%3D%22https%3A//cdn.jsdelivr.net/npm/leaflet%401.6.0/dist/leaflet.js%22%3E%3C/script%3E%0A%20%20%20%20%3Cscript%20src%3D%22https%3A//code.jquery.com/jquery-1.12.4.min.js%22%3E%3C/script%3E%0A%20%20%20%20%3Cscript%20src%3D%22https%3A//maxcdn.bootstrapcdn.com/bootstrap/3.2.0/js/bootstrap.min.js%22%3E%3C/script%3E%0A%20%20%20%20%3Cscript%20src%3D%22https%3A//cdnjs.cloudflare.com/ajax/libs/Leaflet.awesome-markers/2.0.2/leaflet.awesome-markers.js%22%3E%3C/script%3E%0A%20%20%20%20%3Clink%20rel%3D%22stylesheet%22%20href%3D%22https%3A//cdn.jsdelivr.net/npm/leaflet%401.6.0/dist/leaflet.css%22/%3E%0A%20%20%20%20%3Clink%20rel%3D%22stylesheet%22%20href%3D%22https%3A//maxcdn.bootstrapcdn.com/bootstrap/3.2.0/css/bootstrap.min.css%22/%3E%0A%20%20%20%20%3Clink%20rel%3D%22stylesheet%22%20href%3D%22https%3A//maxcdn.bootstrapcdn.com/bootstrap/3.2.0/css/bootstrap-theme.min.css%22/%3E%0A%20%20%20%20%3Clink%20rel%3D%22stylesheet%22%20href%3D%22https%3A//maxcdn.bootstrapcdn.com/font-awesome/4.6.3/css/font-awesome.min.css%22/%3E%0A%20%20%20%20%3Clink%20rel%3D%22stylesheet%22%20href%3D%22https%3A//cdnjs.cloudflare.com/ajax/libs/Leaflet.awesome-markers/2.0.2/leaflet.awesome-markers.css%22/%3E%0A%20%20%20%20%3Clink%20rel%3D%22stylesheet%22%20href%3D%22https%3A//cdn.jsdelivr.net/gh/python-visualization/folium/folium/templates/leaflet.awesome.rotate.min.css%22/%3E%0A%20%20%20%20%0A%20%20%20%20%20%20%20%20%20%20%20%20%3Cmeta%20name%3D%22viewport%22%20content%3D%22width%3Ddevice-width%2C%0A%20%20%20%20%20%20%20%20%20%20%20%20%20%20%20%20initial-scale%3D1.0%2C%20maximum-scale%3D1.0%2C%20user-scalable%3Dno%22%20/%3E%0A%20%20%20%20%20%20%20%20%20%20%20%20%3Cstyle%3E%0A%20%20%20%20%20%20%20%20%20%20%20%20%20%20%20%20%23map_6a173dc908b846858e2aad4e6b9e8659%20%7B%0A%20%20%20%20%20%20%20%20%20%20%20%20%20%20%20%20%20%20%20%20position%3A%20relative%3B%0A%20%20%20%20%20%20%20%20%20%20%20%20%20%20%20%20%20%20%20%20width%3A%20100.0%25%3B%0A%20%20%20%20%20%20%20%20%20%20%20%20%20%20%20%20%20%20%20%20height%3A%20100.0%25%3B%0A%20%20%20%20%20%20%20%20%20%20%20%20%20%20%20%20%20%20%20%20left%3A%200.0%25%3B%0A%20%20%20%20%20%20%20%20%20%20%20%20%20%20%20%20%20%20%20%20top%3A%200.0%25%3B%0A%20%20%20%20%20%20%20%20%20%20%20%20%20%20%20%20%7D%0A%20%20%20%20%20%20%20%20%20%20%20%20%3C/style%3E%0A%20%20%20%20%20%20%20%20%0A%3C/head%3E%0A%3Cbody%3E%20%20%20%20%0A%20%20%20%20%0A%20%20%20%20%20%20%20%20%20%20%20%20%3Cdiv%20class%3D%22folium-map%22%20id%3D%22map_6a173dc908b846858e2aad4e6b9e8659%22%20%3E%3C/div%3E%0A%20%20%20%20%20%20%20%20%0A%3C/body%3E%0A%3Cscript%3E%20%20%20%20%0A%20%20%20%20%0A%20%20%20%20%20%20%20%20%20%20%20%20var%20map_6a173dc908b846858e2aad4e6b9e8659%20%3D%20L.map%28%0A%20%20%20%20%20%20%20%20%20%20%20%20%20%20%20%20%22map_6a173dc908b846858e2aad4e6b9e8659%22%2C%0A%20%20%20%20%20%20%20%20%20%20%20%20%20%20%20%20%7B%0A%20%20%20%20%20%20%20%20%20%20%20%20%20%20%20%20%20%20%20%20center%3A%20%5B5.823995461100887%2C%20-55.178945681863844%5D%2C%0A%20%20%20%20%20%20%20%20%20%20%20%20%20%20%20%20%20%20%20%20crs%3A%20L.CRS.EPSG3857%2C%0A%20%20%20%20%20%20%20%20%20%20%20%20%20%20%20%20%20%20%20%20zoom%3A%2012%2C%0A%20%20%20%20%20%20%20%20%20%20%20%20%20%20%20%20%20%20%20%20zoomControl%3A%20true%2C%0A%20%20%20%20%20%20%20%20%20%20%20%20%20%20%20%20%20%20%20%20preferCanvas%3A%20false%2C%0A%20%20%20%20%20%20%20%20%20%20%20%20%20%20%20%20%7D%0A%20%20%20%20%20%20%20%20%20%20%20%20%29%3B%0A%0A%20%20%20%20%20%20%20%20%20%20%20%20%0A%0A%20%20%20%20%20%20%20%20%0A%20%20%20%20%0A%20%20%20%20%20%20%20%20%20%20%20%20var%20tile_layer_d271a635adc44966b84b2390608743d0%20%3D%20L.tileLayer%28%0A%20%20%20%20%20%20%20%20%20%20%20%20%20%20%20%20%22https%3A//%7Bs%7D.tile.openstreetmap.org/%7Bz%7D/%7Bx%7D/%7By%7D.png%22%2C%0A%20%20%20%20%20%20%20%20%20%20%20%20%20%20%20%20%7B%22attribution%22%3A%20%22Data%20by%20%5Cu0026copy%3B%20%5Cu003ca%20href%3D%5C%22http%3A//openstreetmap.org%5C%22%5Cu003eOpenStreetMap%5Cu003c/a%5Cu003e%2C%20under%20%5Cu003ca%20href%3D%5C%22http%3A//www.openstreetmap.org/copyright%5C%22%5Cu003eODbL%5Cu003c/a%5Cu003e.%22%2C%20%22detectRetina%22%3A%20false%2C%20%22maxNativeZoom%22%3A%2018%2C%20%22maxZoom%22%3A%2018%2C%20%22minZoom%22%3A%200%2C%20%22noWrap%22%3A%20false%2C%20%22opacity%22%3A%201%2C%20%22subdomains%22%3A%20%22abc%22%2C%20%22tms%22%3A%20false%7D%0A%20%20%20%20%20%20%20%20%20%20%20%20%29.addTo%28map_6a173dc908b846858e2aad4e6b9e8659%29%3B%0A%20%20%20%20%20%20%20%20%0A%20%20%20%20%0A%20%20%20%20%20%20%20%20%20%20%20%20var%20tile_layer_455cf8d80ffd4569bf14f6a2ca729299%20%3D%20L.tileLayer%28%0A%20%20%20%20%20%20%20%20%20%20%20%20%20%20%20%20%22https%3A//earthengine.googleapis.com/v1alpha/projects/earthengine-legacy/maps/ef9576c16ea45fac9ebdff6d7ee5b512-0769d99a761d2eebcbc7d4b4481736bd/tiles/%7Bz%7D/%7Bx%7D/%7By%7D%22%2C%0A%20%20%20%20%20%20%20%20%20%20%20%20%20%20%20%20%7B%22attribution%22%3A%20%22Map%20Data%20%5Cu0026copy%3B%20%5Cu003ca%20href%3D%5C%22https%3A//earthengine.google.com/%5C%22%5Cu003eGoogle%20Earth%20Engine%5Cu003c/a%5Cu003e%22%2C%20%22detectRetina%22%3A%20false%2C%20%22maxNativeZoom%22%3A%2018%2C%20%22maxZoom%22%3A%2018%2C%20%22minZoom%22%3A%200%2C%20%22noWrap%22%3A%20false%2C%20%22opacity%22%3A%201%2C%20%22subdomains%22%3A%20%22abc%22%2C%20%22tms%22%3A%20false%7D%0A%20%20%20%20%20%20%20%20%20%20%20%20%29.addTo%28map_6a173dc908b846858e2aad4e6b9e8659%29%3B%0A%20%20%20%20%20%20%20%20%0A%20%20%20%20%0A%20%20%20%20%20%20%20%20%20%20%20%20var%20layer_control_4a9c1f6cb6cc45c7aa4b5349db779ead%20%3D%20%7B%0A%20%20%20%20%20%20%20%20%20%20%20%20%20%20%20%20base_layers%20%3A%20%7B%0A%20%20%20%20%20%20%20%20%20%20%20%20%20%20%20%20%20%20%20%20%22openstreetmap%22%20%3A%20tile_layer_d271a635adc44966b84b2390608743d0%2C%0A%20%20%20%20%20%20%20%20%20%20%20%20%20%20%20%20%7D%2C%0A%20%20%20%20%20%20%20%20%20%20%20%20%20%20%20%20overlays%20%3A%20%20%7B%0A%20%20%20%20%20%20%20%20%20%20%20%20%20%20%20%20%20%20%20%20%22FFA%22%20%3A%20tile_layer_455cf8d80ffd4569bf14f6a2ca729299%2C%0A%20%20%20%20%20%20%20%20%20%20%20%20%20%20%20%20%7D%2C%0A%20%20%20%20%20%20%20%20%20%20%20%20%7D%3B%0A%20%20%20%20%20%20%20%20%20%20%20%20L.control.layers%28%0A%20%20%20%20%20%20%20%20%20%20%20%20%20%20%20%20layer_control_4a9c1f6cb6cc45c7aa4b5349db779ead.base_layers%2C%0A%20%20%20%20%20%20%20%20%20%20%20%20%20%20%20%20layer_control_4a9c1f6cb6cc45c7aa4b5349db779ead.overlays%2C%0A%20%20%20%20%20%20%20%20%20%20%20%20%20%20%20%20%7B%22autoZIndex%22%3A%20true%2C%20%22collapsed%22%3A%20true%2C%20%22position%22%3A%20%22topright%22%7D%0A%20%20%20%20%20%20%20%20%20%20%20%20%29.addTo%28map_6a173dc908b846858e2aad4e6b9e8659%29%3B%0A%20%20%20%20%20%20%20%20%0A%3C/script%3E onload=\"this.contentDocument.open();this.contentDocument.write(    decodeURIComponent(this.getAttribute('data-html')));this.contentDocument.close();\" allowfullscreen webkitallowfullscreen mozallowfullscreen></iframe></div></div>"
      ],
      "text/plain": [
       "<folium.folium.Map at 0x7fbfc604c4f0>"
      ]
     },
     "metadata": {},
     "output_type": "display_data"
    }
   ],
   "source": [
    "location = aoi.centroid().coordinates().getInfo()[::-1]\n",
    "\n",
    "# Make an RGB color composite image (VV,VH,VV/VH).\n",
    "rgb = ee.Image.rgb(ffa_db.select('VV'),\n",
    "                   ffa_db.select('VH'),\n",
    "                   ffa_db.select('VV').divide(ffa_db.select('VH')))\n",
    "\n",
    "# Create the map object.\n",
    "m = folium.Map(location=location, zoom_start=12)\n",
    "\n",
    "# Add the S1 rgb composite to the map object.\n",
    "m.add_ee_layer(rgb, {'min': [-20, -20, 0], 'max': [0, 0, 2]}, 'FFA')\n",
    "\n",
    "# Add a layer control panel to the map.\n",
    "m.add_child(folium.LayerControl())\n",
    "\n",
    "# Display the map.\n",
    "display(m)"
   ]
  },
  {
   "cell_type": "markdown",
   "metadata": {
    "id": "-k9V1U0JUTd7"
   },
   "source": [
    "### Pixel distributions\n",
    "\n",
    "In order to examine the statistics of the pixels in this image empirically, we'll need samples from a featureless (textureless) spatial subset. Here is a polygon covering the triangular wooded area just east of the north-south runway:"
   ]
  },
  {
   "cell_type": "code",
   "execution_count": 11,
   "metadata": {
    "id": "zNhZRKV4UX51"
   },
   "outputs": [],
   "source": [
    "geoJSON = {\n",
    "  \"type\": \"FeatureCollection\",\n",
    "  \"features\": [\n",
    "    {\n",
    "      \"type\": \"Feature\",\n",
    "      \"properties\": {},\n",
    "      \"geometry\": {\n",
    "        \"type\": \"Polygon\",\n",
    "        \"coordinates\": [\n",
    "          [\n",
    "            [\n",
    "              -55.21848678588867,\n",
    "              5.872867803938939\n",
    "            ],\n",
    "            [\n",
    "              -55.256595611572266,\n",
    "              5.836153112227562\n",
    "            ],\n",
    "            [\n",
    "              -55.243377685546875,\n",
    "              5.7832114200335125\n",
    "            ],\n",
    "            [\n",
    "              -55.18226623535156,\n",
    "              5.760837793657766\n",
    "            ],\n",
    "            [\n",
    "              -55.10570526123047,\n",
    "              5.794312509472417\n",
    "            ],\n",
    "            [\n",
    "              -55.11669158935547,\n",
    "              5.873892365348979\n",
    "            ],\n",
    "            [\n",
    "              -55.174198150634766,\n",
    "              5.882771818579644\n",
    "            ],\n",
    "            [\n",
    "              -55.21848678588867,\n",
    "              5.872867803938939\n",
    "            ]\n",
    "          ]\n",
    "        ]\n",
    "      }\n",
    "    },\n",
    "    {\n",
    "      \"type\": \"Feature\",\n",
    "      \"properties\": {},\n",
    "      \"geometry\": {\n",
    "        \"type\": \"Polygon\",\n",
    "        \"coordinates\": [\n",
    "          [\n",
    "            [\n",
    "              -55.162739753723145,\n",
    "              5.819481285890801\n",
    "            ],\n",
    "            [\n",
    "              -55.16340494155884,\n",
    "              5.817560044911445\n",
    "            ],\n",
    "            [\n",
    "              -55.16525030136108,\n",
    "              5.815019727317559\n",
    "            ],\n",
    "            [\n",
    "              -55.15917778015136,\n",
    "              5.813077123770661\n",
    "            ],\n",
    "            [\n",
    "              -55.15728950500488,\n",
    "              5.8160230474019\n",
    "            ],\n",
    "            [\n",
    "              -55.15432834625244,\n",
    "              5.817197143100488\n",
    "            ],\n",
    "            [\n",
    "              -55.14898538589477,\n",
    "              5.817303878951558\n",
    "            ],\n",
    "            [\n",
    "              -55.14591693878174,\n",
    "              5.817645433538808\n",
    "            ],\n",
    "            [\n",
    "              -55.146324634552,\n",
    "              5.82622692442722\n",
    "            ],\n",
    "            [\n",
    "              -55.148813724517815,\n",
    "              5.824625909953514\n",
    "            ],\n",
    "            [\n",
    "              -55.150787830352776,\n",
    "              5.8247112975073385\n",
    "            ],\n",
    "            [\n",
    "              -55.15658140182495,\n",
    "              5.823601258295259\n",
    "            ],\n",
    "            [\n",
    "              -55.15984296798706,\n",
    "              5.821253091196477\n",
    "            ],\n",
    "            [\n",
    "              -55.162010192871094,\n",
    "              5.820143045152388\n",
    "            ],\n",
    "            [\n",
    "              -55.162739753723145,\n",
    "              5.819481285890801\n",
    "            ]\n",
    "          ]\n",
    "        ]\n",
    "      }\n",
    "    }\n",
    "  ]\n",
    "}\n",
    "coords = geoJSON['features'][0]['geometry']['coordinates']\n",
    "aoi_sub = ee.Geometry.Polygon(coords)"
   ]
  },
  {
   "cell_type": "markdown",
   "metadata": {
    "id": "iMnUgrxvUfte"
   },
   "source": [
    "Using standard reducers from the GEE library we can easily calculate a histogram and estimate the first two moments (mean and variance) of the pixels in the polygon _aoi\\_sub_ , again retrieving the results from the servers with _getInfo()_ ."
   ]
  },
  {
   "cell_type": "code",
   "execution_count": 12,
   "metadata": {
    "id": "KfjUo-FyUklG"
   },
   "outputs": [],
   "source": [
    "hist = ffa_fl.select('VV').reduceRegion(\n",
    "    ee.Reducer.fixedHistogram(0, 0.5, 500),aoi_sub).get('VV').getInfo()\n",
    "mean = ffa_fl.select('VV').reduceRegion(\n",
    "    ee.Reducer.mean(), aoi_sub).get('VV').getInfo()\n",
    "variance = ffa_fl.select('VV').reduceRegion(\n",
    "    ee.Reducer.variance(), aoi_sub).get('VV').getInfo()"
   ]
  },
  {
   "cell_type": "markdown",
   "metadata": {
    "id": "AcC98FbvUpmz"
   },
   "source": [
    "Here is a plot of the (normalized) histogram using _numpy_ and _matplotlib_ :"
   ]
  },
  {
   "cell_type": "code",
   "execution_count": 13,
   "metadata": {
    "id": "pMgsrzHHUuSX"
   },
   "outputs": [
    {
     "data": {
      "image/png": "[encoded data removed]",
      "text/plain": [
       "<Figure size 432x288 with 1 Axes>"
      ]
     },
     "metadata": {
      "needs_background": "light"
     },
     "output_type": "display_data"
    }
   ],
   "source": [
    "a = np.array(hist)\n",
    "x = a[:, 0]                 # array of bucket edge positions\n",
    "y = a[:, 1]/np.sum(a[:, 1]) # normalized array of bucket contents\n",
    "plt.grid()\n",
    "plt.plot(x, y, '.')\n",
    "plt.show()"
   ]
  },
  {
   "cell_type": "markdown",
   "metadata": {
    "id": "2zyPzJOzU16A"
   },
   "source": [
    "The above histogram is in fact a _gamma probability density distribution_ \n",
    "\n",
    "$$\n",
    "p_{\\gamma;\\alpha,\\beta}(x) = {1\\over \\beta^\\alpha\\Gamma(\\alpha)}x^{\\alpha-1}e^{-x/\\beta},\\quad {\\rm mean}(x) = \\alpha\\beta,\\quad {\\rm var}(x) = \\alpha\\beta^2 \\tag{1.1}\n",
    "$$\n",
    "where\n",
    "$$\n",
    "\\Gamma(\\alpha) = \\int_0^\\infty z^{\\alpha-1}e^{-z} dz.\n",
    "$$\n",
    "\n",
    "The parameters are in this case $\\alpha = 5$ and $\\beta = {\\mu}/\\alpha$, where $\\mu$ is the estimated mean value we just determined with _ee.Reducer.mean()_. \n",
    "This can easily be verified by plotting the gamma distribution _gamma.pdf()_ and overlaying it onto the histogram. Since the bucket widths are 0.001, we have to divide the plot by 1000."
   ]
  },
  {
   "cell_type": "code",
   "execution_count": 14,
   "metadata": {
    "id": "2vQjpWmJU9jf"
   },
   "outputs": [
    {
     "data": {
      "image/png": "[encoded data removed]",
      "text/plain": [
       "<Figure size 432x288 with 1 Axes>"
      ]
     },
     "metadata": {
      "needs_background": "light"
     },
     "output_type": "display_data"
    }
   ],
   "source": [
    "alpha = 5\n",
    "beta = mean/alpha\n",
    "plt.grid()\n",
    "plt.plot(x, y, '.', label='data')\n",
    "plt.plot(x, gamma.pdf(x, alpha, 0, beta)/1000, '-r', label='gamma')\n",
    "plt.legend()\n",
    "plt.show()"
   ]
  },
  {
   "cell_type": "markdown",
   "metadata": {
    "id": "dDs648j5VDR9"
   },
   "source": [
    "In order to understand just why this is the case, let's take a step back and consider how the pixels were generated."
   ]
  },
  {
   "cell_type": "markdown",
   "metadata": {
    "id": "vvsqOV76adxT"
   },
   "source": [
    "\n",
    "### Single look complex (SLC) SAR measurements\n",
    "The Sentinel-1 platform is a dual polarimetric synthetic aperture radar system, emitting radar microwaves in the C-band with one polarization (vertical in most cases) and recording both vertical and horizontal reflected polarizations. This is represented mathematically as\n",
    "\n",
    "$$\n",
    "\\pmatrix{E_v^b\\cr E_h^b} = {e^{-{\\bf i}rk}\\over r}\\pmatrix{S_{vv} & S_{vh}\\cr S_{hv} & S_{hh}}\\pmatrix{E_v^i\\cr 0}. \\tag{1.2}\n",
    "$$\n",
    "\n",
    "The incident, vertically polarized radar signal $\\pmatrix{E_v^i\\cr 0}$ is transformed by a complex _scattering matrix_ $\\pmatrix{S_{vv} & S_{vh}\\cr S_{hv} & S_{hh}}$ into the backscattered signal $\\pmatrix{E_v^b\\cr E_h^b}$ having both vertical and horizontal polarization components. The exponent term accounts for the phase shift due to the return distance $r$ from target to sensor, where $k$ is the wave number, $k=2\\pi/\\lambda$. From measurement of the backscattered radiation at the sensor, two of the four complex scattering matrix elements can be derived and processed into two-dimensional (slant range $\\times$ azimuth) arrays, comprising the so-called _single look complex_ image. Written as a complex vector, the two derived elements are\n",
    " \n",
    "$$\n",
    "S = \\pmatrix{S_{vv}\\cr S_{vh}}.          \\tag{1.3}\n",
    "$$\n",
    "\n",
    "We write the complex transpose of the vector $S$ as $S^\\dagger = (S_{vv}^*\\ S_{vh}^*)$, where the $^*$ denotes complex conjugation. The inner product of $S$ with itself is the total power (also referred to as the _span_ image)\n",
    "\n",
    "$$\n",
    "P = S^\\dagger S = (S_{vv}^*\\ S_{vh}^*)\\pmatrix{S_{vv}\\cr S_{vh}} = |S_{vv}|^2 + |S_{vh}|^2 \\tag{1.4}\n",
    "$$\n",
    "\n",
    "and the outer product is the (dual pol) _covariance matrix image_\n",
    "\n",
    "$$\n",
    "C2 = SS^\\dagger = \\pmatrix{S_{vv}\\cr S_{vh}}(S_{vv}^*\\ S_{vh}^*) = \\pmatrix{|S_{vv}|^2 & S_{vv}^*S_{vh} \\cr S_{vh}^*S_{vv} & |S_{vh}|^2}. \\tag{1.5}\n",
    "$$\n",
    "\n",
    "The diagonal elements are real numbers, the off-diagonal elements are complex conjugates of each other and contain the relative phases of the $S_{vv}$ and $S_{vh}$ components. The off-diagonal elements are not available for S1 archived imagery in GEE, so that if we nevertheless choose to represent the data in covariance matrix form, the matrix is diagonal: \n",
    "\n",
    "$$\n",
    "C2 = \\pmatrix{|S_{vv}|^2 & 0 \\cr 0 & |S_{vh}|^2}, \\tag{1.6a}\n",
    "$$\n",
    "\n",
    "In terms of radar scattering cross sections (sigma nought),\n",
    "\n",
    "$$\n",
    "C2 = {1\\over 4\\pi}\\pmatrix{\\sigma^o_{vv}  & 0 \\cr 0 & \\sigma^o_{vh}}. \\tag{1.6b}\n",
    "$$\n"
   ]
  },
  {
   "cell_type": "markdown",
   "metadata": {
    "id": "eCkMh76EGnrD"
   },
   "source": [
    "### Speckle\n",
    "\n",
    "The most striking characteristic of SAR images, when compared to their visual/infrared\n",
    "counterparts, is the disconcerting _speckle_ effect which makes visual interpretation very\n",
    "difficult. Speckle gives the appearance of random noise, but\n",
    "it is actually a deterministic consequence of the coherent nature of the radar signal.\n",
    "\n",
    "For single polarization transmission and reception, e.g., vertical-vertical ($vv$), the received SLC signal can be modelled in the form\n",
    "\n",
    "$$\n",
    "S_{vv} = {|S^a_{vv}|\\over\\sqrt{n}}\\sum_{k=1}^n e^{{\\bf i}\\phi_k}, \\tag{1.7}\n",
    "$$\n",
    "\n",
    "where $|S^a_{vv}|$ is the overall amplitude characterizing the signal scattered from the  area covered by a single pixel, e.g., $10\\times 10\\ m^2$ for our S1 data,  with the phase set equal to zero for convenience. The effects of randomly distributed scatterers within the irradiated area, with dimensions  of the order of the incident wavelength  5.6 cm (for Sentinel-1), add coherently and introduce a change in phase of the  received signal. This is indicated by the sum term in the above equation. The effect varies from pixel to pixel and gives rise to speckle. \n",
    "\n",
    "If we expand Eq. (1.7) into its real and imaginary parts, we can understand it better:\n",
    "\n",
    "$$\n",
    "S_{vv} = {|S^a_{vv}|\\over\\sqrt{n}}\\sum_{k=1}^n e^{{\\bf i}\\phi_k} = {|S^a_{vv}|\\over\\sqrt{n}}\\left(\\sum_k\\cos\\phi_k + {\\bf i}\\sum_k\\sin\\phi_k\\right) =  {|S^a_{vv}|\\over\\sqrt{n}}(x + {\\bf i}y) \\tag{1.8}\n",
    "$$\n",
    "\n",
    "where\n",
    "\n",
    "$$\n",
    "x = \\sum_k\\cos\\phi_k, \\quad y = \\sum_k\\sin\\phi_k.\n",
    "$$\n",
    "\n",
    "Because the phase shifts $\\phi_k$ are randomly and uniformly distributed, the variables $x$ and $y$ are sums of identically distributed cosine and sine terms respectively. The __Central Limit Theorem__ of statistics then says that $x$ and $y$ will have a normal distribution with zero mean and variance $\\sigma^2 =n/2$ in the limit of large number $n$ of scatterers. We can verify this with a simple piece of code in which we set $n=10000$:"
   ]
  },
  {
   "cell_type": "code",
   "execution_count": 15,
   "metadata": {
    "id": "jGx_jHFSanpR"
   },
   "outputs": [
    {
     "data": {
      "image/png": "[encoded data removed]",
      "text/plain": [
       "<Figure size 432x288 with 1 Axes>"
      ]
     },
     "metadata": {
      "needs_background": "light"
     },
     "output_type": "display_data"
    }
   ],
   "source": [
    "def X(n):\n",
    "    return np.sum(np.cos(4*np.pi*(np.random.rand(n)-0.5)))/np.sqrt(n/2)\n",
    "\n",
    "n= 10000\n",
    "Xs = [X(n) for i in range(10000)]\n",
    "y, x = np.histogram(Xs, 100, range=[-5,5])\n",
    "plt.plot(x[:-1], y/1000, 'b.', label='simulated data')\n",
    "plt.plot(x, norm.pdf(x), '-r', label='normal distribution')\n",
    "plt.grid()\n",
    "plt.legend()\n",
    "plt.show()"
   ]
  },
  {
   "cell_type": "markdown",
   "metadata": {
    "id": "5Po6uERXauAB"
   },
   "source": [
    "Furthermore, $x$ and $y$ are uncorrelated since, in the expression for covariance of $x$ and $y$, the sums of products of cosine and sine terms cancel to zero. This means that  $x + {\\bf i}y$, and hence the observed single look complex signal $S_{vv}$ (see Eq. (1.8)), has a _complex normal distribution_ .\n",
    "\n",
    "Now what about the pixels values in the Sentinel-1 VV intensity images? They are given by the square of the amplitude of $S_{vv}$,\n",
    "\n",
    "$$\n",
    "|S_{vv}|^2 = S_{vv}S^*_{vv} = {|S^a_{vv}|^2\\over n}(x^2+y^2). \\tag{1.9}\n",
    "$$\n",
    "\n",
    "(Actually averages of the above, as we'll see later.) We can write this in the form\n",
    "\n",
    "$$\n",
    "|S_{vv}|^2 =  {|S^a_{vv}|^2\\over n}{n\\over 2}\\left({x^2\\over n/2}+{y^2\\over n/2}\\right) = |S^a_{vv}|^2{u\\over 2}, \\tag{1.10}\n",
    "$$\n",
    "\n",
    "where \n",
    "\n",
    "$$\n",
    "u = \\left({x^2\\over n/2}+{y^2\\over n/2}\\right) \\tag{1.11}\n",
    "$$\n",
    "\n",
    "is the sum of the squares of two variables with independent standard normal distributions. Applying the  \n",
    "\n",
    "   - __Theorem:__ If the measurements $x_i,\\ i=1\\dots m$, are independent and standard normally distributed (i.e., with mean $0$ and variance $1$), then the variable $x=\\sum_{i=1}^m x_i^2$ is  chi-square distributed with $m$ degrees of freedom, given by\n",
    "\n",
    "$$\n",
    "p_{\\chi^2;m}(x)={1 \\over 2^{m/2}\\Gamma(m/2)} z^{(m-2)/2} e^{-x/2},\\quad {\\rm mean}(x)=m,\\quad {\\rm var}(x) = 2m. \\tag{1.12}\n",
    "$$\n",
    "\n",
    "we see that $u$ is chi-square distributed with degrees of freedom $m=2$,\n",
    "\n",
    "$$\n",
    "p_u(u) = {1\\over 2}e^{-u/2} \\tag{1.13}\n",
    "$$\n",
    "\n",
    "since $\\Gamma(1)=1$.\n",
    "\n",
    "To simplify the notation, let $s=|S_{vv}|^2 $ and  $a=|S^a_{vv}|^2$. Then from (1.10)\n",
    "\n",
    "$$\n",
    "s = a{u\\over 2} \\tag{1.14}\n",
    "$$\n",
    "\n",
    "To get the distribution $p_s(s)$ of the observed signal from the distribution of $u$, we apply the standard transformation formula\n",
    "\n",
    "$$\n",
    "p_s(s) = p_u(u)\\left|{du\\over ds}\\right| = {1\\over 2}e^{-u/2}{2\\over a} = {1\\over a} e^{-s/a}. \\tag{1.15}\n",
    "$$\n",
    "\n",
    "Compare this with the definition of the _exponential probability distribution_\n",
    "\n",
    "$$\n",
    "p_{e;\\beta}(x) = {1\\over\\beta}e^{-x/\\beta},\\quad {\\rm mean}(x) = \\beta,\\quad {\\rm var}(x) = \\beta. \\tag{1.16}\n",
    "$$\n",
    "\n",
    "We conclude that the measured intensity signal $s=|S_{vv}|^2$ has an exponential distribution with mean and variance equal to the underlying signal strength $a=|S^a_{vv}|^2$.\n",
    "\n",
    "So far so good, however we still haven't quite characterized the statistics of the pixels in the intensity bands of the Sentinel-1 images. \n"
   ]
  },
  {
   "cell_type": "markdown",
   "metadata": {
    "id": "a1gYVejHb7jd"
   },
   "source": [
    "### Multi-look SAR statistics\n",
    "\n",
    "Multi-look processing essentially corresponds to the averaging of neighborhood pixels with the objective\n",
    "of reducing speckle and compressing the data. In practice, the averaging is often not performed in the\n",
    "spatial domain, but rather in the frequency domain during range/azimuth compression of the received signal. \n",
    "\n",
    "Look averaging takes place at the cost of spatial resolution. The spatial resolution attainable with SAR satellite platforms  involves, among many other considerations, a compromise between azimuthal resolution and swath width, see  [Moreira et al. (2013)](https://elib.dlr.de/82313/) for a good discussion. In the Sentinel-1 _Interferometric Wide Swath_ acquisition mode, the pixels are about 20m $\\times$ 4m (azimuth $\\times$ range) in extent and the swath widths are about 250km. For the multi-looking procedure, five cells are incoherently averaged in the range direction to achieve approx. $20m \\times 20m$ resolution. The pixels are then resampled to $10\\times 10\\ m^2$. (Note that spatial resolution is a measure of the system's ability to distinguish between adjacent targets while pixel spacing is the distance between adjacent pixels in an image, measured in metres.) The look averaging process, which we can symbolize using angular brackets as $\\langle |S_{vv}|^2 \\rangle$ or $\\langle |S_{vh}|^2 \\rangle$, has the desirable effect of reducing speckle (at the cost of resolution) in the intensity images. We can see this as follows, first quoting another well-known Theorem in statistics:\n",
    "\n",
    "   - __Theorem:__ If the quantities $s_i,\\ i=1\\dots m,$ are independent and each have exponential distributions given by Eq. (1.16), then $x = \\sum_{i=1}^m s_i$ has the gamma distribution Eq. (1.1) with $\\alpha=m,\\ \\beta=a$. Its mean is $\\alpha\\beta =ma$ and its variance is $\\alpha\\beta^2 = ma^2.$\n",
    "\n",
    "Again with the notation $s=|S_{vv}|^2 $ and  $a=|S^a_{vv}|^2$, if intensity measurements $s$ are summed over $m$ looks to give $\\sum_{i=1}^m s_i$, then according to this Theorem  the sum (not the average!) will be gamma distributed with $\\alpha= m$ and $\\beta=a$, provided the $s_i$ are independent. The look-averaged image is\n",
    "\n",
    "$$\n",
    "\\langle s\\rangle = {1\\over m}\\sum_{i=1}^m s_i \\tag{1.17}\n",
    "$$\n",
    "\n",
    "and its mean value is\n",
    "\n",
    "$$\n",
    "{\\rm mean}(\\langle s\\rangle) = {1\\over m}\\sum_{i=1}^m {\\rm mean}(s_i) = {1\\over m}\\sum_{i=1}^m a = a. \\tag{1.18}\n",
    "$$\n",
    "\n",
    "Now we see that the histogram of the Sentinel-1 multi-look image $\\langle s\\rangle =\\langle |S_{vv}|^2 \\rangle$ follows a gamma distribution with the parameters \n",
    "\n",
    "$$\n",
    "\\alpha=m,\\quad \\beta' = {a\\over m} = {{\\rm mean}(\\langle s\\rangle)\\over m}, \\tag{1.19}\n",
    "$$\n",
    "\n",
    "as we demonstrated earlier with the measured histogram.\n",
    "\n",
    "The covariance representation of the dual pol multilook images is \n",
    "\n",
    "$$\n",
    "C2 = \\pmatrix{\\langle|S_{vv}|^2\\rangle & 0 \\cr 0 & \\langle|S_{vh}|^2\\rangle}. \\tag{1.20}\n",
    "$$\n",
    "\n",
    "\n",
    "### Equivalent number of looks\n",
    "\n",
    "The variance of $\\langle s\\rangle$ is given by\n",
    "\n",
    "$$\n",
    "{\\rm var}(\\langle s\\rangle) = {1\\over m^2}{\\rm var}(\\sum_{i=1}^m s_i)= {1\\over m^2}ma^2 = {a^2\\over m}, \\tag{1.21}\n",
    "$$\n",
    "\n",
    "where we have used the fact that the variance of the gamma distribution is $\\alpha\\beta'^2=ma^2$. Thus the variance of the look-averaged image, the speckle effect, decreases inversely with the number of looks.\n",
    "\n",
    "\n",
    "In practice, the neighborhood pixel intensities contributing to the look average will not be completely independent, but correlated to some extent. This is accounted for by defining an _equivalent number of looks_\n",
    "(ENL) whose definition is motivated by Eq. (1.21), that is,\n",
    "\n",
    "$$\n",
    "{\\rm ENL} = {a^2\\over {\\rm var}(\\langle s\\rangle)} = {{\\rm mean}(\\langle s\\rangle)^2\\over {\\rm var}(\\langle s\\rangle)}.\\tag{1.22}\n",
    "$$\n",
    "\n",
    "In general it will be smaller than $m$. Let's see what we get for our subset of the airport image:"
   ]
  },
  {
   "cell_type": "code",
   "execution_count": 16,
   "metadata": {
    "id": "3FIc22YZbI95"
   },
   "outputs": [
    {
     "data": {
      "text/plain": [
       "0.020391786838855935"
      ]
     },
     "execution_count": 16,
     "metadata": {},
     "output_type": "execute_result"
    }
   ],
   "source": [
    "mean ** 2 / variance"
   ]
  },
  {
   "cell_type": "markdown",
   "metadata": {
    "id": "hMrNjW56bNXF"
   },
   "source": [
    "The value given by the provider (ESA) for the IW mode imagery in the GEE archive is ENL = 4.4, an average over all swaths, so our spatial subset seems to be fairly representative.\n",
    "\n",
    "### Outlook\n",
    "\n",
    "Now we have a good idea of the statistics of the Sentinel-1 images on the GEE. In [Part 2](https://developers.google.com/earth-engine/tutorials/community/detecting-changes-in-sentinel-1-imagery-pt-2) of the Tutorial we will discuss statistical methods to detect changes in two Sentinel-1 images acquired at different times."
   ]
  },
  {
   "cell_type": "code",
   "execution_count": null,
   "metadata": {},
   "outputs": [],
   "source": []
  }
 ],
 "metadata": {
  "colab": {
   "collapsed_sections": [],
   "name": "Detecting Changes in Sentinel-1 Imagery (Part 1)",
   "provenance": []
  },
  "kernelspec": {
   "display_name": "Python (GEE)",
   "language": "python",
   "name": "google_earth_engine"
  },
  "language_info": {
   "codemirror_mode": {
    "name": "ipython",
    "version": 3
   },
   "file_extension": ".py",
   "mimetype": "text/x-python",
   "name": "python",
   "nbconvert_exporter": "python",
   "pygments_lexer": "ipython3",
   "version": "3.8.10"
  }
 },
 "nbformat": 4,
 "nbformat_minor": 1
}
